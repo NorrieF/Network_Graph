{
 "cells": [
  {
   "cell_type": "code",
   "execution_count": 20,
   "metadata": {},
   "outputs": [],
   "source": [
    "import requests\n",
    "import time\n",
    "import re\n",
    "import unicodedata"
   ]
  },
  {
   "cell_type": "markdown",
   "metadata": {},
   "source": [
    "# Data Collection"
   ]
  },
  {
   "cell_type": "markdown",
   "metadata": {},
   "source": [
    "Prepare for parsing data from Instagram"
   ]
  },
  {
   "cell_type": "code",
   "execution_count": 21,
   "metadata": {},
   "outputs": [],
   "source": [
    "# Instagram base url preffix\n",
    "tagurl_prefix = 'https://www.instagram.com/explore/tags/'\n",
    "\n",
    "# suffix to append to tag request url to retrieve data in JSON format\n",
    "tagurl_suffix = '/?__a=1'\n",
    "\n",
    "# suffix to end cursor when requesting posts by tag\n",
    "tagurl_endcursor = '&max_id='\n",
    "\n",
    "# a generic media post preffix (concat with media shortcode to view)\n",
    "posturl_prefix = 'https://www.instagram.com/p/'"
   ]
  },
  {
   "cell_type": "code",
   "execution_count": 22,
   "metadata": {},
   "outputs": [],
   "source": [
    "import unicodedata\n",
    "\n",
    "def strip_accents(text):\n",
    "    \n",
    "    \"\"\"\n",
    "    Strip accents from input String.\n",
    "\n",
    "    :param text: The input string.\n",
    "    :type text: String.\n",
    "\n",
    "    :returns: The processed String.\n",
    "    :rtype: String.\n",
    "    \"\"\"\n",
    "    \n",
    "    try:\n",
    "        text = unicode(text, 'utf-8')\n",
    "    except (TypeError, NameError):\n",
    "        pass\n",
    "    \n",
    "    text = unicodedata.normalize('NFD', text)\n",
    "    text = text.encode('ascii', 'ignore')\n",
    "    text = text.decode(\"utf-8\")\n",
    "    \n",
    "    return str(text)"
   ]
  },
  {
   "cell_type": "code",
   "execution_count": 23,
   "metadata": {},
   "outputs": [],
   "source": [
    "import re\n",
    "\n",
    "def text2tags(text, striptag=True):\n",
    "    \n",
    "    pattern = '#\\S+'\n",
    "    \n",
    "    text = text.lower()\n",
    "    \n",
    "    text = strip_accents(text)\n",
    "    \n",
    "    matches = re.findall(pattern, text)\n",
    "    \n",
    "    if striptag :\n",
    "        matches = [ match.replace('#','') for match in matches ]\n",
    "    \n",
    "    return matches"
   ]
  },
  {
   "cell_type": "code",
   "execution_count": 24,
   "metadata": {},
   "outputs": [],
   "source": [
    "def json2posts(json_info, infilter=False):\n",
    "\n",
    "    posts_list = json_info['graphql']['hashtag']['edge_hashtag_to_media']['edges']\n",
    "\n",
    "    posts_dicts = []\n",
    "\n",
    "    for post in posts_list:\n",
    "\n",
    "        node = post['node']\n",
    "\n",
    "        id_post = node['id']\n",
    "\n",
    "        id_owner = node['owner']['id']\n",
    "\n",
    "        shortcode = node['shortcode']\n",
    "\n",
    "        edges = node['edge_media_to_caption']['edges']\n",
    "        \n",
    "        text = edges[0]['node']['text'].replace('\\n','') if len(edges) else ''\n",
    "        \n",
    "        tags = text2tags(text)\n",
    "\n",
    "        post_url = posturl_prefix + shortcode + '/'\n",
    "\n",
    "        post_dict = {\n",
    "            'id_post': id_post,\n",
    "            'id_owner': id_owner,\n",
    "            'shortcode': shortcode,\n",
    "            'text': text,\n",
    "            'post_url': post_url,\n",
    "            'tags': tags\n",
    "        }\n",
    "        \n",
    "        if infilter :\n",
    "            if len(tags) :\n",
    "                posts_dicts.append( post_dict )\n",
    "        else:\n",
    "            pass\n",
    "    \n",
    "    else:\n",
    "        posts_dicts.append( post_dict )\n",
    "    \n",
    "    return posts_dicts"
   ]
  },
  {
   "cell_type": "code",
   "execution_count": 25,
   "metadata": {},
   "outputs": [],
   "source": [
    "import requests\n",
    "import time\n",
    "\n",
    "def snowball(url, deep=1, end_cursor='', count=0, showurl=False, \n",
    "             sleep=0, forever=False, progress=False, pause=60 ):\n",
    "\n",
    "    request_url = url + tagurl_endcursor + end_cursor\n",
    "\n",
    "    if showurl :\n",
    "        print(request_url)\n",
    "    else:\n",
    "        if progress :\n",
    "            print( count, end=' ' )\n",
    "    \n",
    "    while True :\n",
    "        try :\n",
    "            json_info = requests.get( request_url ).json()\n",
    "            break\n",
    "        except:\n",
    "            if forever :\n",
    "                print('Fail, retrying in ' + str(pause) + ' seconds')\n",
    "                time.sleep(pause)\n",
    "            else:\n",
    "                print('Fail, ' + str(count) + ' requests done')\n",
    "                return []\n",
    "    \n",
    "    end_cursor = json_info['graphql']['hashtag']['edge_hashtag_to_media']['page_info']['end_cursor']\n",
    "\n",
    "    posts = json2posts( json_info, True )\n",
    "\n",
    "    time.sleep(sleep)\n",
    "  \n",
    "    count = count + 1\n",
    "\n",
    "    if count < deep :\n",
    "        posts += snowball(\n",
    "            url=url, \n",
    "            deep=deep, \n",
    "            end_cursor=end_cursor, \n",
    "            count=count, \n",
    "            showurl=showurl, \n",
    "            sleep=sleep,\n",
    "            forever=forever,\n",
    "            progress=progress, \n",
    "            pause=pause)\n",
    "    else:\n",
    "        pass\n",
    "    \n",
    "    if showurl :\n",
    "        pass\n",
    "    else:\n",
    "        if progress :\n",
    "            if count == deep :\n",
    "                print()\n",
    "\n",
    "    return posts"
   ]
  },
  {
   "cell_type": "markdown",
   "metadata": {},
   "source": [
    "Set hashtags to be parsed data for"
   ]
  },
  {
   "cell_type": "code",
   "execution_count": 26,
   "metadata": {},
   "outputs": [],
   "source": [
    "# target initial tags\n",
    "tags = ['palmtree', 'garden', 'beach', 'vacation', 'home']"
   ]
  },
  {
   "cell_type": "code",
   "execution_count": 27,
   "metadata": {},
   "outputs": [],
   "source": [
    "# urls to initial tags\n",
    "queries = [ tagurl_prefix + tag + tagurl_suffix for tag in tags ]"
   ]
  },
  {
   "cell_type": "code",
   "execution_count": 28,
   "metadata": {},
   "outputs": [
    {
     "name": "stdout",
     "output_type": "stream",
     "text": [
      "Querying palmtree...\n",
      "0 1 2 3 4 5 6 7 8 9 10 11 12 13 14 15 16 17 18 19 20 21 22 23 24 25 26 27 28 29 30 31 32 33 34 35 36 37 38 39 \n",
      "Done\n",
      "Querying garden...\n",
      "0 1 2 3 4 5 6 7 8 9 10 11 12 13 14 15 16 17 18 19 20 21 22 23 24 25 26 27 28 29 30 31 32 33 34 35 36 37 38 39 \n",
      "Done\n",
      "Querying beach...\n",
      "0 1 2 3 4 5 6 7 8 9 10 11 12 13 14 15 16 17 18 19 20 21 22 23 24 25 26 27 28 29 30 31 32 33 34 35 36 37 38 39 \n",
      "Done\n",
      "Querying vacation...\n",
      "0 1 2 3 4 5 6 7 8 9 10 11 12 13 14 15 16 17 18 19 20 21 22 23 24 25 26 27 28 29 30 31 32 33 34 35 36 37 38 39 \n",
      "Done\n",
      "Querying home...\n",
      "0 1 2 3 4 5 6 7 8 9 10 11 12 13 14 15 16 17 18 19 20 21 22 23 24 25 26 27 28 29 30 31 32 33 34 35 36 37 38 39 \n",
      "Done\n",
      "Wall time: 10min 30s\n"
     ]
    }
   ],
   "source": [
    "%%time\n",
    "\n",
    "data = {}\n",
    "\n",
    "for tag, query in zip( tags, queries ) :\n",
    "    \n",
    "    print( 'Querying ' + tag + '...' )\n",
    "    \n",
    "    posts = snowball(query, deep=40, forever=True, sleep=1, pause=60, progress=True)\n",
    "    \n",
    "    data[tag] = posts\n",
    "    \n",
    "    print( 'Done' )\n",
    "    \n",
    "    time.sleep(30)"
   ]
  },
  {
   "cell_type": "code",
   "execution_count": 29,
   "metadata": {},
   "outputs": [
    {
     "name": "stdout",
     "output_type": "stream",
     "text": [
      "palmtree 2465\n",
      "garden 2693\n",
      "beach 2478\n",
      "vacation 2377\n",
      "home 2522\n"
     ]
    }
   ],
   "source": [
    "# checking number of medias\n",
    "for key, posts in data.items() :\n",
    "    \n",
    "    print(key, len(posts))"
   ]
  },
  {
   "cell_type": "code",
   "execution_count": 30,
   "metadata": {},
   "outputs": [],
   "source": [
    "import json\n",
    "\n",
    "# saving data to a JSON file\n",
    "f = open('data.json', 'w')\n",
    "json.dump(data, f)\n",
    "f.close()"
   ]
  },
  {
   "cell_type": "markdown",
   "metadata": {},
   "source": [
    "# Calculating and Storing Edges"
   ]
  },
  {
   "cell_type": "code",
   "execution_count": null,
   "metadata": {},
   "outputs": [],
   "source": [
    "# checking non-tagged medias\n",
    "\n",
    "for key, posts in data.items():\n",
    "    \n",
    "    for post in posts:\n",
    "        \n",
    "        tags = post['tags']\n",
    "        \n",
    "        if len(tags) :\n",
    "            pass\n",
    "        else:\n",
    "            print(post['post_url'], media['text'])"
   ]
  },
  {
   "cell_type": "code",
   "execution_count": 32,
   "metadata": {},
   "outputs": [],
   "source": [
    "# define a function for tag validation\n",
    "import re\n",
    "    \n",
    "def validate_tag(tag):\n",
    "    \n",
    "    \"\"\"\n",
    "    Checks if a tag is valid according to its contents and size\n",
    "    \"\"\"\n",
    "\n",
    "    MAX_LEN = 25\n",
    "    MIN_LEN = 1\n",
    "\n",
    "    pattern = '^[a-zA-Z0-9]+$'\n",
    "    \n",
    "    if re.match(pattern, tag) and len(tag) < MAX_LEN and len(tag) > MIN_LEN :\n",
    "        return True\n",
    "    else :\n",
    "        return False"
   ]
  },
  {
   "cell_type": "code",
   "execution_count": 33,
   "metadata": {},
   "outputs": [],
   "source": [
    "# trying a limitation in the number of posts (too many posts for Gephi to handle otherwise)\n",
    "POSTS_MAX = 100\n",
    "# this list contains just edges from initial target (keys) tags to related post tags\n",
    "edges_list_keys = []\n",
    "# this list contains all edges between pairs of tags from the same post\n",
    "edges_list_all = []\n",
    "# populating the lists of edges\n",
    "for person, posts in data.items() :\n",
    "\n",
    "    # traversing each post for each key tag\n",
    "    for post in posts[:POSTS_MAX] :\n",
    "        \n",
    "        # list of tags in the post including trash tags\n",
    "        post_tags = post['tags']\n",
    "        \n",
    "        # list of tags in the post after filtering\n",
    "        post_tags = [tag for tag in post_tags if validate_tag(tag)]\n",
    "        \n",
    "        # list of tags without the key tag\n",
    "        post_tags_drop_person = [tag for tag in post_tags if not tag == person]\n",
    "        \n",
    "        # creating edges between key tag and all others\n",
    "        for tag in post_tags_drop_person :\n",
    "            \n",
    "            edge_keys = (person, tag)\n",
    "            \n",
    "            edges_list_keys.append( edge_keys )\n",
    "        \n",
    "        # creating the edges between all the tags\n",
    "        for tag in post_tags :\n",
    "            \n",
    "            # index of the current tag in the list\n",
    "            tag_index = post_tags.index(tag)\n",
    "            \n",
    "            # this slice is needed in order to connect all edges one and only on time\n",
    "            post_tags_slice = post_tags[tag_index+1:]\n",
    "            \n",
    "            for stag in post_tags_slice :\n",
    "                \n",
    "                edge_all_pre = (tag, stag)\n",
    "                \n",
    "                # creating the edge element in alphabetical order\n",
    "                edge_all = ( min(edge_all_pre) , max(edge_all_pre) )\n",
    "                \n",
    "                edges_list_all.append( edge_all )"
   ]
  },
  {
   "cell_type": "code",
   "execution_count": 34,
   "metadata": {},
   "outputs": [
    {
     "name": "stdout",
     "output_type": "stream",
     "text": [
      "Numbers of edges:\n",
      "8120\n",
      "102083\n"
     ]
    }
   ],
   "source": [
    "print('Numbers of edges:')\n",
    "\n",
    "print(len(edges_list_keys))\n",
    "\n",
    "print(len(edges_list_all))"
   ]
  },
  {
   "cell_type": "code",
   "execution_count": 35,
   "metadata": {},
   "outputs": [
    {
     "data": {
      "text/plain": [
       "[('mangroveswamp', 'palmtree'),\n",
       " ('mangroveswamp', 'wheelybin'),\n",
       " ('mangroveswamp', 'shy'),\n",
       " ('backwaters', 'mangroveswamp'),\n",
       " ('australia', 'mangroveswamp'),\n",
       " ('mangroveswamp', 'nswathome'),\n",
       " ('palmtree', 'wheelybin'),\n",
       " ('palmtree', 'shy'),\n",
       " ('backwaters', 'palmtree'),\n",
       " ('australia', 'palmtree')]"
      ]
     },
     "execution_count": 35,
     "metadata": {},
     "output_type": "execute_result"
    }
   ],
   "source": [
    "# checking a sample of edges\n",
    "edges_list_all[:10]"
   ]
  },
  {
   "cell_type": "code",
   "execution_count": 36,
   "metadata": {},
   "outputs": [
    {
     "data": {
      "text/plain": [
       "[('palmtree', 'mangroveswamp'),\n",
       " ('palmtree', 'wheelybin'),\n",
       " ('palmtree', 'shy'),\n",
       " ('palmtree', 'backwaters'),\n",
       " ('palmtree', 'australia'),\n",
       " ('palmtree', 'nswathome'),\n",
       " ('palmtree', 'latenightwalks'),\n",
       " ('palmtree', 'goodgirl'),\n",
       " ('palmtree', 'iseeyoupalmtree'),\n",
       " ('palmtree', 'california')]"
      ]
     },
     "execution_count": 36,
     "metadata": {},
     "output_type": "execute_result"
    }
   ],
   "source": [
    "# checking a sample of edges\n",
    "edges_list_keys[:10]"
   ]
  },
  {
   "cell_type": "markdown",
   "metadata": {},
   "source": [
    "Handling List of All Edges\n",
    "Initial Graph"
   ]
  },
  {
   "cell_type": "code",
   "execution_count": 37,
   "metadata": {},
   "outputs": [],
   "source": [
    "import networkx as nx"
   ]
  },
  {
   "cell_type": "code",
   "execution_count": 38,
   "metadata": {},
   "outputs": [],
   "source": [
    "G = nx.from_edgelist(edges_list_all)"
   ]
  },
  {
   "cell_type": "code",
   "execution_count": 39,
   "metadata": {},
   "outputs": [
    {
     "data": {
      "text/plain": [
       "['mangroveswamp',\n",
       " 'palmtree',\n",
       " 'wheelybin',\n",
       " 'shy',\n",
       " 'backwaters',\n",
       " 'australia',\n",
       " 'nswathome',\n",
       " 'goodgirl',\n",
       " 'latenightwalks',\n",
       " 'iseeyoupalmtree']"
      ]
     },
     "execution_count": 39,
     "metadata": {},
     "output_type": "execute_result"
    }
   ],
   "source": [
    "list(G.nodes)[:10]"
   ]
  },
  {
   "cell_type": "code",
   "execution_count": 40,
   "metadata": {},
   "outputs": [
    {
     "data": {
      "text/plain": [
       "[('mangroveswamp', 'palmtree'),\n",
       " ('mangroveswamp', 'wheelybin'),\n",
       " ('mangroveswamp', 'shy'),\n",
       " ('mangroveswamp', 'backwaters'),\n",
       " ('mangroveswamp', 'australia'),\n",
       " ('mangroveswamp', 'nswathome'),\n",
       " ('palmtree', 'wheelybin'),\n",
       " ('palmtree', 'shy'),\n",
       " ('palmtree', 'backwaters'),\n",
       " ('palmtree', 'australia')]"
      ]
     },
     "execution_count": 40,
     "metadata": {},
     "output_type": "execute_result"
    }
   ],
   "source": [
    "list(G.edges())[:10]"
   ]
  },
  {
   "cell_type": "code",
   "execution_count": 41,
   "metadata": {},
   "outputs": [
    {
     "data": {
      "text/plain": [
       "3601"
      ]
     },
     "execution_count": 41,
     "metadata": {},
     "output_type": "execute_result"
    }
   ],
   "source": [
    "len(G.nodes)"
   ]
  },
  {
   "cell_type": "code",
   "execution_count": 42,
   "metadata": {},
   "outputs": [
    {
     "data": {
      "text/plain": [
       "60568"
      ]
     },
     "execution_count": 42,
     "metadata": {},
     "output_type": "execute_result"
    }
   ],
   "source": [
    "len(G.edges)"
   ]
  },
  {
   "cell_type": "code",
   "execution_count": 43,
   "metadata": {},
   "outputs": [
    {
     "data": {
      "text/plain": [
       "59.33211210485585"
      ]
     },
     "execution_count": 43,
     "metadata": {},
     "output_type": "execute_result"
    }
   ],
   "source": [
    "# percentage from graph edges to list of edges\n",
    "100 * len(G.edges)/len(edges_list_all)"
   ]
  },
  {
   "cell_type": "code",
   "execution_count": 44,
   "metadata": {},
   "outputs": [],
   "source": [
    "import pandas as pd"
   ]
  },
  {
   "cell_type": "code",
   "execution_count": 45,
   "metadata": {},
   "outputs": [],
   "source": [
    "edges_df = pd.DataFrame(edges_list_all, columns=['source', 'target'])"
   ]
  },
  {
   "cell_type": "code",
   "execution_count": 46,
   "metadata": {},
   "outputs": [
    {
     "data": {
      "text/html": [
       "<div>\n",
       "<style scoped>\n",
       "    .dataframe tbody tr th:only-of-type {\n",
       "        vertical-align: middle;\n",
       "    }\n",
       "\n",
       "    .dataframe tbody tr th {\n",
       "        vertical-align: top;\n",
       "    }\n",
       "\n",
       "    .dataframe thead th {\n",
       "        text-align: right;\n",
       "    }\n",
       "</style>\n",
       "<table border=\"1\" class=\"dataframe\">\n",
       "  <thead>\n",
       "    <tr style=\"text-align: right;\">\n",
       "      <th></th>\n",
       "      <th>source</th>\n",
       "      <th>target</th>\n",
       "    </tr>\n",
       "  </thead>\n",
       "  <tbody>\n",
       "    <tr>\n",
       "      <th>0</th>\n",
       "      <td>mangroveswamp</td>\n",
       "      <td>palmtree</td>\n",
       "    </tr>\n",
       "    <tr>\n",
       "      <th>1</th>\n",
       "      <td>mangroveswamp</td>\n",
       "      <td>wheelybin</td>\n",
       "    </tr>\n",
       "    <tr>\n",
       "      <th>2</th>\n",
       "      <td>mangroveswamp</td>\n",
       "      <td>shy</td>\n",
       "    </tr>\n",
       "    <tr>\n",
       "      <th>3</th>\n",
       "      <td>backwaters</td>\n",
       "      <td>mangroveswamp</td>\n",
       "    </tr>\n",
       "    <tr>\n",
       "      <th>4</th>\n",
       "      <td>australia</td>\n",
       "      <td>mangroveswamp</td>\n",
       "    </tr>\n",
       "  </tbody>\n",
       "</table>\n",
       "</div>"
      ],
      "text/plain": [
       "          source         target\n",
       "0  mangroveswamp       palmtree\n",
       "1  mangroveswamp      wheelybin\n",
       "2  mangroveswamp            shy\n",
       "3     backwaters  mangroveswamp\n",
       "4      australia  mangroveswamp"
      ]
     },
     "execution_count": 46,
     "metadata": {},
     "output_type": "execute_result"
    }
   ],
   "source": [
    "edges_df.head()"
   ]
  },
  {
   "cell_type": "code",
   "execution_count": 47,
   "metadata": {},
   "outputs": [],
   "source": [
    "edges_df.to_csv('edges_list_all.csv')"
   ]
  },
  {
   "cell_type": "code",
   "execution_count": 48,
   "metadata": {},
   "outputs": [],
   "source": [
    "edges_df['tuple'] = pd.Series(zip(edges_df.source, edges_df.target))"
   ]
  },
  {
   "cell_type": "code",
   "execution_count": 49,
   "metadata": {},
   "outputs": [
    {
     "data": {
      "text/html": [
       "<div>\n",
       "<style scoped>\n",
       "    .dataframe tbody tr th:only-of-type {\n",
       "        vertical-align: middle;\n",
       "    }\n",
       "\n",
       "    .dataframe tbody tr th {\n",
       "        vertical-align: top;\n",
       "    }\n",
       "\n",
       "    .dataframe thead th {\n",
       "        text-align: right;\n",
       "    }\n",
       "</style>\n",
       "<table border=\"1\" class=\"dataframe\">\n",
       "  <thead>\n",
       "    <tr style=\"text-align: right;\">\n",
       "      <th></th>\n",
       "      <th>source</th>\n",
       "      <th>target</th>\n",
       "      <th>tuple</th>\n",
       "    </tr>\n",
       "  </thead>\n",
       "  <tbody>\n",
       "    <tr>\n",
       "      <th>0</th>\n",
       "      <td>mangroveswamp</td>\n",
       "      <td>palmtree</td>\n",
       "      <td>(mangroveswamp, palmtree)</td>\n",
       "    </tr>\n",
       "    <tr>\n",
       "      <th>1</th>\n",
       "      <td>mangroveswamp</td>\n",
       "      <td>wheelybin</td>\n",
       "      <td>(mangroveswamp, wheelybin)</td>\n",
       "    </tr>\n",
       "    <tr>\n",
       "      <th>2</th>\n",
       "      <td>mangroveswamp</td>\n",
       "      <td>shy</td>\n",
       "      <td>(mangroveswamp, shy)</td>\n",
       "    </tr>\n",
       "    <tr>\n",
       "      <th>3</th>\n",
       "      <td>backwaters</td>\n",
       "      <td>mangroveswamp</td>\n",
       "      <td>(backwaters, mangroveswamp)</td>\n",
       "    </tr>\n",
       "    <tr>\n",
       "      <th>4</th>\n",
       "      <td>australia</td>\n",
       "      <td>mangroveswamp</td>\n",
       "      <td>(australia, mangroveswamp)</td>\n",
       "    </tr>\n",
       "  </tbody>\n",
       "</table>\n",
       "</div>"
      ],
      "text/plain": [
       "          source         target                        tuple\n",
       "0  mangroveswamp       palmtree    (mangroveswamp, palmtree)\n",
       "1  mangroveswamp      wheelybin   (mangroveswamp, wheelybin)\n",
       "2  mangroveswamp            shy         (mangroveswamp, shy)\n",
       "3     backwaters  mangroveswamp  (backwaters, mangroveswamp)\n",
       "4      australia  mangroveswamp   (australia, mangroveswamp)"
      ]
     },
     "execution_count": 49,
     "metadata": {},
     "output_type": "execute_result"
    }
   ],
   "source": [
    "edges_df.head()"
   ]
  },
  {
   "cell_type": "code",
   "execution_count": 50,
   "metadata": {},
   "outputs": [],
   "source": [
    "edges_grouped = edges_df.groupby('tuple').count()"
   ]
  },
  {
   "cell_type": "code",
   "execution_count": 51,
   "metadata": {},
   "outputs": [
    {
     "data": {
      "text/html": [
       "<div>\n",
       "<style scoped>\n",
       "    .dataframe tbody tr th:only-of-type {\n",
       "        vertical-align: middle;\n",
       "    }\n",
       "\n",
       "    .dataframe tbody tr th {\n",
       "        vertical-align: top;\n",
       "    }\n",
       "\n",
       "    .dataframe thead th {\n",
       "        text-align: right;\n",
       "    }\n",
       "</style>\n",
       "<table border=\"1\" class=\"dataframe\">\n",
       "  <thead>\n",
       "    <tr style=\"text-align: right;\">\n",
       "      <th></th>\n",
       "      <th>source</th>\n",
       "      <th>target</th>\n",
       "    </tr>\n",
       "    <tr>\n",
       "      <th>tuple</th>\n",
       "      <th></th>\n",
       "      <th></th>\n",
       "    </tr>\n",
       "  </thead>\n",
       "  <tbody>\n",
       "    <tr>\n",
       "      <th>(florist, instagood)</th>\n",
       "      <td>5</td>\n",
       "      <td>5</td>\n",
       "    </tr>\n",
       "    <tr>\n",
       "      <th>(midcenturymodern, midcenturymodernhome)</th>\n",
       "      <td>1</td>\n",
       "      <td>1</td>\n",
       "    </tr>\n",
       "    <tr>\n",
       "      <th>(instravel, offduty)</th>\n",
       "      <td>1</td>\n",
       "      <td>1</td>\n",
       "    </tr>\n",
       "    <tr>\n",
       "      <th>(garden, travelphotography)</th>\n",
       "      <td>3</td>\n",
       "      <td>3</td>\n",
       "    </tr>\n",
       "    <tr>\n",
       "      <th>(goodnight, photo)</th>\n",
       "      <td>1</td>\n",
       "      <td>1</td>\n",
       "    </tr>\n",
       "  </tbody>\n",
       "</table>\n",
       "</div>"
      ],
      "text/plain": [
       "                                          source  target\n",
       "tuple                                                   \n",
       "(florist, instagood)                           5       5\n",
       "(midcenturymodern, midcenturymodernhome)       1       1\n",
       "(instravel, offduty)                           1       1\n",
       "(garden, travelphotography)                    3       3\n",
       "(goodnight, photo)                             1       1"
      ]
     },
     "execution_count": 51,
     "metadata": {},
     "output_type": "execute_result"
    }
   ],
   "source": [
    "edges_grouped.sample(5)"
   ]
  },
  {
   "cell_type": "code",
   "execution_count": 52,
   "metadata": {},
   "outputs": [],
   "source": [
    "edges_grouped.drop(columns='target', inplace=True, errors='ignore')"
   ]
  },
  {
   "cell_type": "code",
   "execution_count": 53,
   "metadata": {},
   "outputs": [],
   "source": [
    "edges_grouped.columns=['weight']"
   ]
  },
  {
   "cell_type": "code",
   "execution_count": 54,
   "metadata": {},
   "outputs": [],
   "source": [
    "edges_grouped.reset_index(inplace=True)"
   ]
  },
  {
   "cell_type": "code",
   "execution_count": 55,
   "metadata": {},
   "outputs": [
    {
     "data": {
      "text/html": [
       "<div>\n",
       "<style scoped>\n",
       "    .dataframe tbody tr th:only-of-type {\n",
       "        vertical-align: middle;\n",
       "    }\n",
       "\n",
       "    .dataframe tbody tr th {\n",
       "        vertical-align: top;\n",
       "    }\n",
       "\n",
       "    .dataframe thead th {\n",
       "        text-align: right;\n",
       "    }\n",
       "</style>\n",
       "<table border=\"1\" class=\"dataframe\">\n",
       "  <thead>\n",
       "    <tr style=\"text-align: right;\">\n",
       "      <th></th>\n",
       "      <th>tuple</th>\n",
       "      <th>weight</th>\n",
       "    </tr>\n",
       "  </thead>\n",
       "  <tbody>\n",
       "    <tr>\n",
       "      <th>55835</th>\n",
       "      <td>(record, traveler)</td>\n",
       "      <td>1</td>\n",
       "    </tr>\n",
       "    <tr>\n",
       "      <th>57274</th>\n",
       "      <td>(sfrealestate, surfsf)</td>\n",
       "      <td>1</td>\n",
       "    </tr>\n",
       "    <tr>\n",
       "      <th>13837</th>\n",
       "      <td>(canabismaconhabrasil, sp)</td>\n",
       "      <td>1</td>\n",
       "    </tr>\n",
       "    <tr>\n",
       "      <th>31539</th>\n",
       "      <td>(girls, tflers)</td>\n",
       "      <td>3</td>\n",
       "    </tr>\n",
       "    <tr>\n",
       "      <th>1430</th>\n",
       "      <td>(adventures, visiting)</td>\n",
       "      <td>1</td>\n",
       "    </tr>\n",
       "  </tbody>\n",
       "</table>\n",
       "</div>"
      ],
      "text/plain": [
       "                            tuple  weight\n",
       "55835          (record, traveler)       1\n",
       "57274      (sfrealestate, surfsf)       1\n",
       "13837  (canabismaconhabrasil, sp)       1\n",
       "31539             (girls, tflers)       3\n",
       "1430       (adventures, visiting)       1"
      ]
     },
     "execution_count": 55,
     "metadata": {},
     "output_type": "execute_result"
    }
   ],
   "source": [
    "edges_grouped.sample(5)"
   ]
  },
  {
   "cell_type": "code",
   "execution_count": 56,
   "metadata": {},
   "outputs": [
    {
     "data": {
      "text/plain": [
       "(60568, 2)"
      ]
     },
     "execution_count": 56,
     "metadata": {},
     "output_type": "execute_result"
    }
   ],
   "source": [
    "edges_grouped.shape"
   ]
  },
  {
   "cell_type": "code",
   "execution_count": 57,
   "metadata": {},
   "outputs": [],
   "source": [
    "edges_grouped['source'] = edges_grouped.tuple.str[0]"
   ]
  },
  {
   "cell_type": "code",
   "execution_count": 58,
   "metadata": {},
   "outputs": [],
   "source": [
    "edges_grouped['target'] = edges_grouped.tuple.str[1]"
   ]
  },
  {
   "cell_type": "code",
   "execution_count": 59,
   "metadata": {},
   "outputs": [],
   "source": [
    "edges_grouped = edges_grouped.drop(columns='tuple')"
   ]
  },
  {
   "cell_type": "code",
   "execution_count": 60,
   "metadata": {},
   "outputs": [
    {
     "data": {
      "text/html": [
       "<div>\n",
       "<style scoped>\n",
       "    .dataframe tbody tr th:only-of-type {\n",
       "        vertical-align: middle;\n",
       "    }\n",
       "\n",
       "    .dataframe tbody tr th {\n",
       "        vertical-align: top;\n",
       "    }\n",
       "\n",
       "    .dataframe thead th {\n",
       "        text-align: right;\n",
       "    }\n",
       "</style>\n",
       "<table border=\"1\" class=\"dataframe\">\n",
       "  <thead>\n",
       "    <tr style=\"text-align: right;\">\n",
       "      <th></th>\n",
       "      <th>weight</th>\n",
       "      <th>source</th>\n",
       "      <th>target</th>\n",
       "    </tr>\n",
       "  </thead>\n",
       "  <tbody>\n",
       "    <tr>\n",
       "      <th>7880</th>\n",
       "      <td>4</td>\n",
       "      <td>beautiful</td>\n",
       "      <td>traveltheworld</td>\n",
       "    </tr>\n",
       "    <tr>\n",
       "      <th>57299</th>\n",
       "      <td>1</td>\n",
       "      <td>share</td>\n",
       "      <td>watch</td>\n",
       "    </tr>\n",
       "    <tr>\n",
       "      <th>47956</th>\n",
       "      <td>1</td>\n",
       "      <td>miamilurkers</td>\n",
       "      <td>palmtrees</td>\n",
       "    </tr>\n",
       "    <tr>\n",
       "      <th>17891</th>\n",
       "      <td>2</td>\n",
       "      <td>costarica</td>\n",
       "      <td>shotoniphone</td>\n",
       "    </tr>\n",
       "    <tr>\n",
       "      <th>10579</th>\n",
       "      <td>1</td>\n",
       "      <td>blondegirl</td>\n",
       "      <td>photogtaphy</td>\n",
       "    </tr>\n",
       "  </tbody>\n",
       "</table>\n",
       "</div>"
      ],
      "text/plain": [
       "       weight        source          target\n",
       "7880        4     beautiful  traveltheworld\n",
       "57299       1         share           watch\n",
       "47956       1  miamilurkers       palmtrees\n",
       "17891       2     costarica    shotoniphone\n",
       "10579       1    blondegirl     photogtaphy"
      ]
     },
     "execution_count": 60,
     "metadata": {},
     "output_type": "execute_result"
    }
   ],
   "source": [
    "edges_grouped.sample(5)"
   ]
  },
  {
   "cell_type": "code",
   "execution_count": 61,
   "metadata": {},
   "outputs": [],
   "source": [
    "edges_grouped.to_csv('edges_counted.csv')"
   ]
  },
  {
   "cell_type": "markdown",
   "metadata": {},
   "source": [
    "Creating New Graph"
   ]
  },
  {
   "cell_type": "code",
   "execution_count": 62,
   "metadata": {},
   "outputs": [],
   "source": [
    "G = nx.from_pandas_edgelist(edges_grouped, edge_attr=True)"
   ]
  },
  {
   "cell_type": "code",
   "execution_count": 63,
   "metadata": {},
   "outputs": [
    {
     "data": {
      "text/plain": [
       "['100likes',\n",
       " '50likes',\n",
       " 'amazing',\n",
       " 'beach',\n",
       " 'beauty',\n",
       " 'bestoftheday',\n",
       " 'cool',\n",
       " 'f4f',\n",
       " 'fitness',\n",
       " 'followforfollow']"
      ]
     },
     "execution_count": 63,
     "metadata": {},
     "output_type": "execute_result"
    }
   ],
   "source": [
    "list(G.nodes)[:10]"
   ]
  },
  {
   "cell_type": "code",
   "execution_count": 64,
   "metadata": {},
   "outputs": [
    {
     "data": {
      "text/plain": [
       "[('100likes', '50likes', {'weight': 3}),\n",
       " ('100likes', 'amazing', {'weight': 3}),\n",
       " ('100likes', 'beach', {'weight': 3}),\n",
       " ('100likes', 'beauty', {'weight': 3}),\n",
       " ('100likes', 'bestoftheday', {'weight': 3}),\n",
       " ('100likes', 'cool', {'weight': 3}),\n",
       " ('100likes', 'f4f', {'weight': 3}),\n",
       " ('100likes', 'fitness', {'weight': 3}),\n",
       " ('100likes', 'followforfollow', {'weight': 3}),\n",
       " ('100likes', 'girls', {'weight': 3})]"
      ]
     },
     "execution_count": 64,
     "metadata": {},
     "output_type": "execute_result"
    }
   ],
   "source": [
    "list(G.edges(data=True))[:10]"
   ]
  },
  {
   "cell_type": "code",
   "execution_count": 65,
   "metadata": {},
   "outputs": [
    {
     "data": {
      "text/plain": [
       "3601"
      ]
     },
     "execution_count": 65,
     "metadata": {},
     "output_type": "execute_result"
    }
   ],
   "source": [
    "len(G.nodes)"
   ]
  },
  {
   "cell_type": "code",
   "execution_count": 66,
   "metadata": {},
   "outputs": [
    {
     "data": {
      "text/plain": [
       "60568"
      ]
     },
     "execution_count": 66,
     "metadata": {},
     "output_type": "execute_result"
    }
   ],
   "source": [
    "len(G.edges)"
   ]
  },
  {
   "cell_type": "code",
   "execution_count": 67,
   "metadata": {},
   "outputs": [
    {
     "data": {
      "text/plain": [
       "100.0"
      ]
     },
     "execution_count": 67,
     "metadata": {},
     "output_type": "execute_result"
    }
   ],
   "source": [
    "# the same percetual as before, but now with the grouped dataframe\n",
    "100 * len(G.edges)/edges_grouped.shape[0]"
   ]
  },
  {
   "cell_type": "code",
   "execution_count": 68,
   "metadata": {},
   "outputs": [],
   "source": [
    "nx.write_graphml(G, \"edges_counted_\" + str(POSTS_MAX) + \".graphml\")"
   ]
  },
  {
   "cell_type": "code",
   "execution_count": 69,
   "metadata": {},
   "outputs": [
    {
     "data": {
      "text/html": [
       "<div>\n",
       "<style scoped>\n",
       "    .dataframe tbody tr th:only-of-type {\n",
       "        vertical-align: middle;\n",
       "    }\n",
       "\n",
       "    .dataframe tbody tr th {\n",
       "        vertical-align: top;\n",
       "    }\n",
       "\n",
       "    .dataframe thead th {\n",
       "        text-align: right;\n",
       "    }\n",
       "</style>\n",
       "<table border=\"1\" class=\"dataframe\">\n",
       "  <thead>\n",
       "    <tr style=\"text-align: right;\">\n",
       "      <th></th>\n",
       "      <th>weight</th>\n",
       "      <th>source</th>\n",
       "      <th>target</th>\n",
       "    </tr>\n",
       "  </thead>\n",
       "  <tbody>\n",
       "    <tr>\n",
       "      <th>42668</th>\n",
       "      <td>91</td>\n",
       "      <td>keralagodsowncountry</td>\n",
       "      <td>vintagestyle</td>\n",
       "    </tr>\n",
       "    <tr>\n",
       "      <th>53925</th>\n",
       "      <td>84</td>\n",
       "      <td>photoshooting</td>\n",
       "      <td>vintagestyle</td>\n",
       "    </tr>\n",
       "    <tr>\n",
       "      <th>42663</th>\n",
       "      <td>84</td>\n",
       "      <td>keralagodsowncountry</td>\n",
       "      <td>photoshooting</td>\n",
       "    </tr>\n",
       "    <tr>\n",
       "      <th>42514</th>\n",
       "      <td>63</td>\n",
       "      <td>kerala</td>\n",
       "      <td>photoshooting</td>\n",
       "    </tr>\n",
       "    <tr>\n",
       "      <th>45910</th>\n",
       "      <td>57</td>\n",
       "      <td>love</td>\n",
       "      <td>nature</td>\n",
       "    </tr>\n",
       "    <tr>\n",
       "      <th>49821</th>\n",
       "      <td>56</td>\n",
       "      <td>nature</td>\n",
       "      <td>photooftheday</td>\n",
       "    </tr>\n",
       "    <tr>\n",
       "      <th>42488</th>\n",
       "      <td>56</td>\n",
       "      <td>kerala</td>\n",
       "      <td>keralagodsowncountry</td>\n",
       "    </tr>\n",
       "    <tr>\n",
       "      <th>42534</th>\n",
       "      <td>56</td>\n",
       "      <td>kerala</td>\n",
       "      <td>vintagestyle</td>\n",
       "    </tr>\n",
       "    <tr>\n",
       "      <th>59596</th>\n",
       "      <td>55</td>\n",
       "      <td>travel</td>\n",
       "      <td>vacation</td>\n",
       "    </tr>\n",
       "    <tr>\n",
       "      <th>49963</th>\n",
       "      <td>54</td>\n",
       "      <td>nature</td>\n",
       "      <td>sunset</td>\n",
       "    </tr>\n",
       "  </tbody>\n",
       "</table>\n",
       "</div>"
      ],
      "text/plain": [
       "       weight                source                target\n",
       "42668      91  keralagodsowncountry          vintagestyle\n",
       "53925      84         photoshooting          vintagestyle\n",
       "42663      84  keralagodsowncountry         photoshooting\n",
       "42514      63                kerala         photoshooting\n",
       "45910      57                  love                nature\n",
       "49821      56                nature         photooftheday\n",
       "42488      56                kerala  keralagodsowncountry\n",
       "42534      56                kerala          vintagestyle\n",
       "59596      55                travel              vacation\n",
       "49963      54                nature                sunset"
      ]
     },
     "execution_count": 69,
     "metadata": {},
     "output_type": "execute_result"
    }
   ],
   "source": [
    "# inspect edges\n",
    "edges_grouped.sort_values(by='weight', ascending=False).head(10)"
   ]
  },
  {
   "cell_type": "code",
   "execution_count": 70,
   "metadata": {},
   "outputs": [],
   "source": [
    "# defining masks to select data\n",
    "\n",
    "mask_source_vacation = edges_grouped.source == 'vacation'\n",
    "mask_source_travel = edges_grouped.source == 'travel'\n",
    "\n",
    "mask_target_vacation = edges_grouped.target == 'vacation'\n",
    "mask_target_travel = edges_grouped.target == 'travel'"
   ]
  },
  {
   "cell_type": "code",
   "execution_count": 71,
   "metadata": {},
   "outputs": [
    {
     "data": {
      "text/html": [
       "<div>\n",
       "<style scoped>\n",
       "    .dataframe tbody tr th:only-of-type {\n",
       "        vertical-align: middle;\n",
       "    }\n",
       "\n",
       "    .dataframe tbody tr th {\n",
       "        vertical-align: top;\n",
       "    }\n",
       "\n",
       "    .dataframe thead th {\n",
       "        text-align: right;\n",
       "    }\n",
       "</style>\n",
       "<table border=\"1\" class=\"dataframe\">\n",
       "  <thead>\n",
       "    <tr style=\"text-align: right;\">\n",
       "      <th></th>\n",
       "      <th>weight</th>\n",
       "      <th>source</th>\n",
       "      <th>target</th>\n",
       "    </tr>\n",
       "  </thead>\n",
       "  <tbody>\n",
       "  </tbody>\n",
       "</table>\n",
       "</div>"
      ],
      "text/plain": [
       "Empty DataFrame\n",
       "Columns: [weight, source, target]\n",
       "Index: []"
      ]
     },
     "execution_count": 71,
     "metadata": {},
     "output_type": "execute_result"
    }
   ],
   "source": [
    "edges_grouped[mask_source_vacation & mask_target_travel]"
   ]
  },
  {
   "cell_type": "code",
   "execution_count": 72,
   "metadata": {},
   "outputs": [
    {
     "data": {
      "text/html": [
       "<div>\n",
       "<style scoped>\n",
       "    .dataframe tbody tr th:only-of-type {\n",
       "        vertical-align: middle;\n",
       "    }\n",
       "\n",
       "    .dataframe tbody tr th {\n",
       "        vertical-align: top;\n",
       "    }\n",
       "\n",
       "    .dataframe thead th {\n",
       "        text-align: right;\n",
       "    }\n",
       "</style>\n",
       "<table border=\"1\" class=\"dataframe\">\n",
       "  <thead>\n",
       "    <tr style=\"text-align: right;\">\n",
       "      <th></th>\n",
       "      <th>weight</th>\n",
       "      <th>source</th>\n",
       "      <th>target</th>\n",
       "    </tr>\n",
       "  </thead>\n",
       "  <tbody>\n",
       "    <tr>\n",
       "      <th>59545</th>\n",
       "      <td>6</td>\n",
       "      <td>travel</td>\n",
       "      <td>travel</td>\n",
       "    </tr>\n",
       "  </tbody>\n",
       "</table>\n",
       "</div>"
      ],
      "text/plain": [
       "       weight  source  target\n",
       "59545       6  travel  travel"
      ]
     },
     "execution_count": 72,
     "metadata": {},
     "output_type": "execute_result"
    }
   ],
   "source": [
    "edges_grouped[mask_target_travel & mask_source_travel]"
   ]
  },
  {
   "cell_type": "markdown",
   "metadata": {},
   "source": [
    "Inspecting Weights"
   ]
  },
  {
   "cell_type": "code",
   "execution_count": 73,
   "metadata": {},
   "outputs": [
    {
     "data": {
      "text/plain": [
       "58233    1\n",
       "29578    1\n",
       "50601    1\n",
       "10287    1\n",
       "10688    1\n",
       "57472    1\n",
       "39319    8\n",
       "28910    1\n",
       "35572    6\n",
       "43840    1\n",
       "38749    1\n",
       "7577     1\n",
       "13271    1\n",
       "20756    1\n",
       "31281    2\n",
       "Name: weight, dtype: int64"
      ]
     },
     "execution_count": 73,
     "metadata": {},
     "output_type": "execute_result"
    }
   ],
   "source": [
    "edges_grouped.weight.sort_values(ascending=False).sample(15)"
   ]
  },
  {
   "cell_type": "code",
   "execution_count": 74,
   "metadata": {},
   "outputs": [],
   "source": [
    "weight_counts = edges_grouped.weight.value_counts().sort_index(ascending=False)"
   ]
  },
  {
   "cell_type": "code",
   "execution_count": 75,
   "metadata": {},
   "outputs": [
    {
     "data": {
      "text/plain": [
       "91    1\n",
       "84    2\n",
       "63    1\n",
       "57    1\n",
       "56    3\n",
       "55    1\n",
       "54    1\n",
       "53    1\n",
       "52    4\n",
       "49    1\n",
       "Name: weight, dtype: int64"
      ]
     },
     "execution_count": 75,
     "metadata": {},
     "output_type": "execute_result"
    }
   ],
   "source": [
    "weight_counts.head(10)"
   ]
  },
  {
   "cell_type": "code",
   "execution_count": 76,
   "metadata": {},
   "outputs": [
    {
     "data": {
      "text/plain": [
       "15       36\n",
       "14       44\n",
       "13       61\n",
       "12      141\n",
       "11       76\n",
       "10      108\n",
       "9       163\n",
       "8       213\n",
       "7       285\n",
       "6       881\n",
       "5      1108\n",
       "4      1070\n",
       "3      3208\n",
       "2      5209\n",
       "1     47635\n",
       "Name: weight, dtype: int64"
      ]
     },
     "execution_count": 76,
     "metadata": {},
     "output_type": "execute_result"
    }
   ],
   "source": [
    "weight_counts.tail(15)"
   ]
  },
  {
   "cell_type": "markdown",
   "metadata": {},
   "source": [
    "Dropping Insignificant Edges"
   ]
  },
  {
   "cell_type": "code",
   "execution_count": 77,
   "metadata": {},
   "outputs": [],
   "source": [
    "TRESHOLD = 4\n",
    "\n",
    "mask_insignificant = edges_grouped.weight.apply(lambda x : x <= TRESHOLD)"
   ]
  },
  {
   "cell_type": "code",
   "execution_count": 78,
   "metadata": {},
   "outputs": [],
   "source": [
    "edges_grouped_dropped = edges_grouped[~mask_insignificant]"
   ]
  },
  {
   "cell_type": "code",
   "execution_count": 79,
   "metadata": {},
   "outputs": [
    {
     "data": {
      "text/plain": [
       "91    1\n",
       "84    2\n",
       "63    1\n",
       "57    1\n",
       "56    3\n",
       "55    1\n",
       "54    1\n",
       "53    1\n",
       "52    4\n",
       "49    1\n",
       "Name: weight, dtype: int64"
      ]
     },
     "execution_count": 79,
     "metadata": {},
     "output_type": "execute_result"
    }
   ],
   "source": [
    "edges_grouped_dropped.weight.value_counts().sort_index(ascending=False).head(10)"
   ]
  },
  {
   "cell_type": "code",
   "execution_count": 80,
   "metadata": {},
   "outputs": [
    {
     "data": {
      "text/plain": [
       "19      15\n",
       "18      35\n",
       "17      23\n",
       "16      36\n",
       "15      36\n",
       "14      44\n",
       "13      61\n",
       "12     141\n",
       "11      76\n",
       "10     108\n",
       "9      163\n",
       "8      213\n",
       "7      285\n",
       "6      881\n",
       "5     1108\n",
       "Name: weight, dtype: int64"
      ]
     },
     "execution_count": 80,
     "metadata": {},
     "output_type": "execute_result"
    }
   ],
   "source": [
    "edges_grouped_dropped.weight.value_counts().sort_index(ascending=False).tail(15)"
   ]
  },
  {
   "cell_type": "code",
   "execution_count": 81,
   "metadata": {},
   "outputs": [],
   "source": [
    "# creating a new graph with dropped data\n",
    "G_dropped = nx.from_pandas_edgelist(edges_grouped_dropped, edge_attr=True)"
   ]
  },
  {
   "cell_type": "markdown",
   "metadata": {},
   "source": [
    "Selfloop Edges\n",
    "Dropped Graph"
   ]
  },
  {
   "cell_type": "code",
   "execution_count": 82,
   "metadata": {},
   "outputs": [
    {
     "data": {
      "text/plain": [
       "[('beach', 'beach', {'weight': 12}),\n",
       " ('beautiful', 'beautiful', {'weight': 6}),\n",
       " ('instagood', 'instagood', {'weight': 10}),\n",
       " ('love', 'love', {'weight': 6}),\n",
       " ('photooftheday', 'photooftheday', {'weight': 10}),\n",
       " ('sunset', 'sunset', {'weight': 18}),\n",
       " ('travel', 'travel', {'weight': 6}),\n",
       " ('thailand', 'thailand', {'weight': 8}),\n",
       " ('giardino', 'giardino', {'weight': 8}),\n",
       " ('instagram', 'instagram', {'weight': 6})]"
      ]
     },
     "execution_count": 82,
     "metadata": {},
     "output_type": "execute_result"
    }
   ],
   "source": [
    "list(nx.selfloop_edges(G_dropped, data=True))[:10]"
   ]
  },
  {
   "cell_type": "code",
   "execution_count": 83,
   "metadata": {},
   "outputs": [
    {
     "data": {
      "text/plain": [
       "28"
      ]
     },
     "execution_count": 83,
     "metadata": {},
     "output_type": "execute_result"
    }
   ],
   "source": [
    "len(list(nx.selfloop_edges(G_dropped, data=True)))"
   ]
  },
  {
   "cell_type": "markdown",
   "metadata": {},
   "source": [
    "Complete Graph"
   ]
  },
  {
   "cell_type": "code",
   "execution_count": 84,
   "metadata": {},
   "outputs": [
    {
     "data": {
      "text/plain": [
       "[('beach', 'beach', {'weight': 12}),\n",
       " ('beauty', 'beauty', {'weight': 2}),\n",
       " ('instagram', 'instagram', {'weight': 6}),\n",
       " ('music', 'music', {'weight': 2}),\n",
       " ('photo', 'photo', {'weight': 4}),\n",
       " ('sunset', 'sunset', {'weight': 18}),\n",
       " ('home', 'home', {'weight': 2}),\n",
       " ('travel', 'travel', {'weight': 6}),\n",
       " ('photographer', 'photographer', {'weight': 6}),\n",
       " ('summer', 'summer', {'weight': 2})]"
      ]
     },
     "execution_count": 84,
     "metadata": {},
     "output_type": "execute_result"
    }
   ],
   "source": [
    "list(nx.selfloop_edges(G, data=True))[:10]"
   ]
  },
  {
   "cell_type": "code",
   "execution_count": 85,
   "metadata": {},
   "outputs": [
    {
     "data": {
      "text/plain": [
       "96"
      ]
     },
     "execution_count": 85,
     "metadata": {},
     "output_type": "execute_result"
    }
   ],
   "source": [
    "len(list(nx.selfloop_edges(G, data=True)))"
   ]
  },
  {
   "cell_type": "code",
   "execution_count": 86,
   "metadata": {},
   "outputs": [],
   "source": [
    "nx.write_graphml(G_dropped, \"edges_counted_\" + str(POSTS_MAX) + \"_dropped.graphml\")"
   ]
  },
  {
   "cell_type": "code",
   "execution_count": 87,
   "metadata": {},
   "outputs": [],
   "source": [
    "import matplotlib.pyplot as plt"
   ]
  },
  {
   "cell_type": "code",
   "execution_count": 88,
   "metadata": {},
   "outputs": [
    {
     "name": "stdout",
     "output_type": "stream",
     "text": [
      "Wall time: 0 ns\n"
     ]
    }
   ],
   "source": [
    "%%time\n",
    "\n",
    "# turn to False to disable a long time operation\n",
    "if False :\n",
    "\n",
    "    nx.draw(G)\n",
    "\n",
    "    plt.show()"
   ]
  },
  {
   "cell_type": "markdown",
   "metadata": {},
   "source": [
    "Handling List of Key Edges\n",
    "Creating Keys Graph"
   ]
  },
  {
   "cell_type": "code",
   "execution_count": 89,
   "metadata": {},
   "outputs": [
    {
     "data": {
      "text/plain": [
       "[('palmtree', 'mangroveswamp'),\n",
       " ('palmtree', 'wheelybin'),\n",
       " ('palmtree', 'shy'),\n",
       " ('palmtree', 'backwaters'),\n",
       " ('palmtree', 'australia'),\n",
       " ('palmtree', 'nswathome'),\n",
       " ('palmtree', 'latenightwalks'),\n",
       " ('palmtree', 'goodgirl'),\n",
       " ('palmtree', 'iseeyoupalmtree'),\n",
       " ('palmtree', 'california')]"
      ]
     },
     "execution_count": 89,
     "metadata": {},
     "output_type": "execute_result"
    }
   ],
   "source": [
    "edges_list_keys[:10]"
   ]
  },
  {
   "cell_type": "code",
   "execution_count": 90,
   "metadata": {},
   "outputs": [],
   "source": [
    "g = nx.from_edgelist(edges_list_keys)"
   ]
  },
  {
   "cell_type": "code",
   "execution_count": 91,
   "metadata": {},
   "outputs": [
    {
     "data": {
      "text/plain": [
       "3616"
      ]
     },
     "execution_count": 91,
     "metadata": {},
     "output_type": "execute_result"
    }
   ],
   "source": [
    "len(g.nodes)"
   ]
  },
  {
   "cell_type": "code",
   "execution_count": 92,
   "metadata": {},
   "outputs": [
    {
     "data": {
      "text/plain": [
       "4386"
      ]
     },
     "execution_count": 92,
     "metadata": {},
     "output_type": "execute_result"
    }
   ],
   "source": [
    "len(g.edges)"
   ]
  },
  {
   "cell_type": "code",
   "execution_count": 93,
   "metadata": {},
   "outputs": [
    {
     "data": {
      "text/plain": [
       "54.01477832512315"
      ]
     },
     "execution_count": 93,
     "metadata": {},
     "output_type": "execute_result"
    }
   ],
   "source": [
    "# percentage from graph edges to list of edges\n",
    "100 * len(g.edges)/len(edges_list_keys)"
   ]
  },
  {
   "cell_type": "markdown",
   "metadata": {},
   "source": [
    "Grouping and Counting Keys Edges"
   ]
  },
  {
   "cell_type": "code",
   "execution_count": 94,
   "metadata": {},
   "outputs": [],
   "source": [
    "edges_df_keys = pd.DataFrame(edges_list_keys, columns=['source', 'target'])"
   ]
  },
  {
   "cell_type": "code",
   "execution_count": 95,
   "metadata": {},
   "outputs": [
    {
     "data": {
      "text/html": [
       "<div>\n",
       "<style scoped>\n",
       "    .dataframe tbody tr th:only-of-type {\n",
       "        vertical-align: middle;\n",
       "    }\n",
       "\n",
       "    .dataframe tbody tr th {\n",
       "        vertical-align: top;\n",
       "    }\n",
       "\n",
       "    .dataframe thead th {\n",
       "        text-align: right;\n",
       "    }\n",
       "</style>\n",
       "<table border=\"1\" class=\"dataframe\">\n",
       "  <thead>\n",
       "    <tr style=\"text-align: right;\">\n",
       "      <th></th>\n",
       "      <th>source</th>\n",
       "      <th>target</th>\n",
       "    </tr>\n",
       "  </thead>\n",
       "  <tbody>\n",
       "    <tr>\n",
       "      <th>193</th>\n",
       "      <td>palmtree</td>\n",
       "      <td>antalya</td>\n",
       "    </tr>\n",
       "    <tr>\n",
       "      <th>2499</th>\n",
       "      <td>garden</td>\n",
       "      <td>pnwplants</td>\n",
       "    </tr>\n",
       "    <tr>\n",
       "      <th>7946</th>\n",
       "      <td>home</td>\n",
       "      <td>milan</td>\n",
       "    </tr>\n",
       "    <tr>\n",
       "      <th>1243</th>\n",
       "      <td>palmtree</td>\n",
       "      <td>fun</td>\n",
       "    </tr>\n",
       "    <tr>\n",
       "      <th>1135</th>\n",
       "      <td>palmtree</td>\n",
       "      <td>california</td>\n",
       "    </tr>\n",
       "  </tbody>\n",
       "</table>\n",
       "</div>"
      ],
      "text/plain": [
       "        source      target\n",
       "193   palmtree     antalya\n",
       "2499    garden   pnwplants\n",
       "7946      home       milan\n",
       "1243  palmtree         fun\n",
       "1135  palmtree  california"
      ]
     },
     "execution_count": 95,
     "metadata": {},
     "output_type": "execute_result"
    }
   ],
   "source": [
    "edges_df_keys.sample(5)"
   ]
  },
  {
   "cell_type": "code",
   "execution_count": 96,
   "metadata": {},
   "outputs": [],
   "source": [
    "edges_df_keys.to_csv('edges_list_keys.csv')"
   ]
  },
  {
   "cell_type": "code",
   "execution_count": 97,
   "metadata": {},
   "outputs": [],
   "source": [
    "edges_df_keys['tuple'] = pd.Series(zip(edges_df_keys.source, edges_df_keys.target))"
   ]
  },
  {
   "cell_type": "code",
   "execution_count": 98,
   "metadata": {},
   "outputs": [
    {
     "data": {
      "text/html": [
       "<div>\n",
       "<style scoped>\n",
       "    .dataframe tbody tr th:only-of-type {\n",
       "        vertical-align: middle;\n",
       "    }\n",
       "\n",
       "    .dataframe tbody tr th {\n",
       "        vertical-align: top;\n",
       "    }\n",
       "\n",
       "    .dataframe thead th {\n",
       "        text-align: right;\n",
       "    }\n",
       "</style>\n",
       "<table border=\"1\" class=\"dataframe\">\n",
       "  <thead>\n",
       "    <tr style=\"text-align: right;\">\n",
       "      <th></th>\n",
       "      <th>source</th>\n",
       "      <th>target</th>\n",
       "      <th>tuple</th>\n",
       "    </tr>\n",
       "  </thead>\n",
       "  <tbody>\n",
       "    <tr>\n",
       "      <th>7017</th>\n",
       "      <td>home</td>\n",
       "      <td>westernbayofplenty</td>\n",
       "      <td>(home, westernbayofplenty)</td>\n",
       "    </tr>\n",
       "    <tr>\n",
       "      <th>3913</th>\n",
       "      <td>beach</td>\n",
       "      <td>night</td>\n",
       "      <td>(beach, night)</td>\n",
       "    </tr>\n",
       "    <tr>\n",
       "      <th>1316</th>\n",
       "      <td>palmtree</td>\n",
       "      <td>palmeras</td>\n",
       "      <td>(palmtree, palmeras)</td>\n",
       "    </tr>\n",
       "    <tr>\n",
       "      <th>3931</th>\n",
       "      <td>beach</td>\n",
       "      <td>summer</td>\n",
       "      <td>(beach, summer)</td>\n",
       "    </tr>\n",
       "    <tr>\n",
       "      <th>1046</th>\n",
       "      <td>palmtree</td>\n",
       "      <td>alpaca</td>\n",
       "      <td>(palmtree, alpaca)</td>\n",
       "    </tr>\n",
       "  </tbody>\n",
       "</table>\n",
       "</div>"
      ],
      "text/plain": [
       "        source              target                       tuple\n",
       "7017      home  westernbayofplenty  (home, westernbayofplenty)\n",
       "3913     beach               night              (beach, night)\n",
       "1316  palmtree            palmeras        (palmtree, palmeras)\n",
       "3931     beach              summer             (beach, summer)\n",
       "1046  palmtree              alpaca          (palmtree, alpaca)"
      ]
     },
     "execution_count": 98,
     "metadata": {},
     "output_type": "execute_result"
    }
   ],
   "source": [
    "edges_df_keys.sample(5)"
   ]
  },
  {
   "cell_type": "code",
   "execution_count": 99,
   "metadata": {},
   "outputs": [],
   "source": [
    "edges_grouped_keys = edges_df_keys.groupby('tuple').count()"
   ]
  },
  {
   "cell_type": "code",
   "execution_count": 100,
   "metadata": {},
   "outputs": [
    {
     "data": {
      "text/html": [
       "<div>\n",
       "<style scoped>\n",
       "    .dataframe tbody tr th:only-of-type {\n",
       "        vertical-align: middle;\n",
       "    }\n",
       "\n",
       "    .dataframe tbody tr th {\n",
       "        vertical-align: top;\n",
       "    }\n",
       "\n",
       "    .dataframe thead th {\n",
       "        text-align: right;\n",
       "    }\n",
       "</style>\n",
       "<table border=\"1\" class=\"dataframe\">\n",
       "  <thead>\n",
       "    <tr style=\"text-align: right;\">\n",
       "      <th></th>\n",
       "      <th>source</th>\n",
       "      <th>target</th>\n",
       "    </tr>\n",
       "    <tr>\n",
       "      <th>tuple</th>\n",
       "      <th></th>\n",
       "      <th></th>\n",
       "    </tr>\n",
       "  </thead>\n",
       "  <tbody>\n",
       "    <tr>\n",
       "      <th>(home, metas)</th>\n",
       "      <td>1</td>\n",
       "      <td>1</td>\n",
       "    </tr>\n",
       "    <tr>\n",
       "      <th>(garden, mygarden)</th>\n",
       "      <td>5</td>\n",
       "      <td>5</td>\n",
       "    </tr>\n",
       "    <tr>\n",
       "      <th>(home, kadoaniversarymurah)</th>\n",
       "      <td>6</td>\n",
       "      <td>6</td>\n",
       "    </tr>\n",
       "    <tr>\n",
       "      <th>(home, gymlife)</th>\n",
       "      <td>1</td>\n",
       "      <td>1</td>\n",
       "    </tr>\n",
       "    <tr>\n",
       "      <th>(home, sepreicantik)</th>\n",
       "      <td>6</td>\n",
       "      <td>6</td>\n",
       "    </tr>\n",
       "  </tbody>\n",
       "</table>\n",
       "</div>"
      ],
      "text/plain": [
       "                             source  target\n",
       "tuple                                      \n",
       "(home, metas)                     1       1\n",
       "(garden, mygarden)                5       5\n",
       "(home, kadoaniversarymurah)       6       6\n",
       "(home, gymlife)                   1       1\n",
       "(home, sepreicantik)              6       6"
      ]
     },
     "execution_count": 100,
     "metadata": {},
     "output_type": "execute_result"
    }
   ],
   "source": [
    "edges_grouped_keys.sample(5)"
   ]
  },
  {
   "cell_type": "code",
   "execution_count": 101,
   "metadata": {},
   "outputs": [],
   "source": [
    "edges_grouped_keys.drop(columns='target', inplace=True, errors='ignore')"
   ]
  },
  {
   "cell_type": "code",
   "execution_count": 102,
   "metadata": {},
   "outputs": [],
   "source": [
    "edges_grouped_keys.columns=['weight']"
   ]
  },
  {
   "cell_type": "code",
   "execution_count": 103,
   "metadata": {},
   "outputs": [],
   "source": [
    "edges_grouped_keys.reset_index(inplace=True)"
   ]
  },
  {
   "cell_type": "code",
   "execution_count": 104,
   "metadata": {},
   "outputs": [
    {
     "data": {
      "text/html": [
       "<div>\n",
       "<style scoped>\n",
       "    .dataframe tbody tr th:only-of-type {\n",
       "        vertical-align: middle;\n",
       "    }\n",
       "\n",
       "    .dataframe tbody tr th {\n",
       "        vertical-align: top;\n",
       "    }\n",
       "\n",
       "    .dataframe thead th {\n",
       "        text-align: right;\n",
       "    }\n",
       "</style>\n",
       "<table border=\"1\" class=\"dataframe\">\n",
       "  <thead>\n",
       "    <tr style=\"text-align: right;\">\n",
       "      <th></th>\n",
       "      <th>tuple</th>\n",
       "      <th>weight</th>\n",
       "    </tr>\n",
       "  </thead>\n",
       "  <tbody>\n",
       "    <tr>\n",
       "      <th>2704</th>\n",
       "      <td>(home, travelgram)</td>\n",
       "      <td>3</td>\n",
       "    </tr>\n",
       "    <tr>\n",
       "      <th>1787</th>\n",
       "      <td>(home, bikelife)</td>\n",
       "      <td>1</td>\n",
       "    </tr>\n",
       "    <tr>\n",
       "      <th>2914</th>\n",
       "      <td>(palmtree, city)</td>\n",
       "      <td>5</td>\n",
       "    </tr>\n",
       "    <tr>\n",
       "      <th>1929</th>\n",
       "      <td>(home, desainrumah)</td>\n",
       "      <td>1</td>\n",
       "    </tr>\n",
       "    <tr>\n",
       "      <th>2779</th>\n",
       "      <td>(palmtree, 80s)</td>\n",
       "      <td>1</td>\n",
       "    </tr>\n",
       "  </tbody>\n",
       "</table>\n",
       "</div>"
      ],
      "text/plain": [
       "                    tuple  weight\n",
       "2704   (home, travelgram)       3\n",
       "1787     (home, bikelife)       1\n",
       "2914     (palmtree, city)       5\n",
       "1929  (home, desainrumah)       1\n",
       "2779      (palmtree, 80s)       1"
      ]
     },
     "execution_count": 104,
     "metadata": {},
     "output_type": "execute_result"
    }
   ],
   "source": [
    "edges_grouped_keys.sample(5)"
   ]
  },
  {
   "cell_type": "code",
   "execution_count": 105,
   "metadata": {},
   "outputs": [],
   "source": [
    "edges_grouped_keys['source'] = edges_grouped_keys.tuple.str[0]"
   ]
  },
  {
   "cell_type": "code",
   "execution_count": 106,
   "metadata": {},
   "outputs": [],
   "source": [
    "edges_grouped_keys['target'] = edges_grouped_keys.tuple.str[1]"
   ]
  },
  {
   "cell_type": "code",
   "execution_count": 107,
   "metadata": {},
   "outputs": [
    {
     "data": {
      "text/plain": [
       "(4388, 4)"
      ]
     },
     "execution_count": 107,
     "metadata": {},
     "output_type": "execute_result"
    }
   ],
   "source": [
    "edges_grouped_keys.shape"
   ]
  },
  {
   "cell_type": "code",
   "execution_count": 108,
   "metadata": {},
   "outputs": [],
   "source": [
    "edges_grouped_keys = edges_grouped_keys.drop(columns='tuple')"
   ]
  },
  {
   "cell_type": "code",
   "execution_count": 109,
   "metadata": {},
   "outputs": [
    {
     "data": {
      "text/html": [
       "<div>\n",
       "<style scoped>\n",
       "    .dataframe tbody tr th:only-of-type {\n",
       "        vertical-align: middle;\n",
       "    }\n",
       "\n",
       "    .dataframe tbody tr th {\n",
       "        vertical-align: top;\n",
       "    }\n",
       "\n",
       "    .dataframe thead th {\n",
       "        text-align: right;\n",
       "    }\n",
       "</style>\n",
       "<table border=\"1\" class=\"dataframe\">\n",
       "  <thead>\n",
       "    <tr style=\"text-align: right;\">\n",
       "      <th></th>\n",
       "      <th>weight</th>\n",
       "      <th>source</th>\n",
       "      <th>target</th>\n",
       "    </tr>\n",
       "  </thead>\n",
       "  <tbody>\n",
       "    <tr>\n",
       "      <th>4092</th>\n",
       "      <td>25</td>\n",
       "      <td>vacation</td>\n",
       "      <td>nature</td>\n",
       "    </tr>\n",
       "    <tr>\n",
       "      <th>2885</th>\n",
       "      <td>1</td>\n",
       "      <td>palmtree</td>\n",
       "      <td>building</td>\n",
       "    </tr>\n",
       "    <tr>\n",
       "      <th>3507</th>\n",
       "      <td>1</td>\n",
       "      <td>palmtree</td>\n",
       "      <td>takeaway</td>\n",
       "    </tr>\n",
       "    <tr>\n",
       "      <th>400</th>\n",
       "      <td>1</td>\n",
       "      <td>beach</td>\n",
       "      <td>mebel</td>\n",
       "    </tr>\n",
       "    <tr>\n",
       "      <th>4206</th>\n",
       "      <td>1</td>\n",
       "      <td>vacation</td>\n",
       "      <td>skygirls</td>\n",
       "    </tr>\n",
       "  </tbody>\n",
       "</table>\n",
       "</div>"
      ],
      "text/plain": [
       "      weight    source    target\n",
       "4092      25  vacation    nature\n",
       "2885       1  palmtree  building\n",
       "3507       1  palmtree  takeaway\n",
       "400        1     beach     mebel\n",
       "4206       1  vacation  skygirls"
      ]
     },
     "execution_count": 109,
     "metadata": {},
     "output_type": "execute_result"
    }
   ],
   "source": [
    "edges_grouped_keys.sample(5)"
   ]
  },
  {
   "cell_type": "code",
   "execution_count": 110,
   "metadata": {},
   "outputs": [],
   "source": [
    "edges_grouped_keys.to_csv('edges_counted_keys.csv')"
   ]
  },
  {
   "cell_type": "markdown",
   "metadata": {},
   "source": [
    "Creating New Keys Graph"
   ]
  },
  {
   "cell_type": "code",
   "execution_count": 111,
   "metadata": {},
   "outputs": [],
   "source": [
    "g = nx.from_pandas_edgelist(edges_grouped_keys, edge_attr=True)"
   ]
  },
  {
   "cell_type": "code",
   "execution_count": 112,
   "metadata": {},
   "outputs": [
    {
     "data": {
      "text/plain": [
       "['beach',\n",
       " '100likes',\n",
       " '12',\n",
       " '141',\n",
       " '20likes',\n",
       " '50likes',\n",
       " '7t',\n",
       " 'a7riiiswimmingpool',\n",
       " 'acoustic',\n",
       " 'adamsjuggler']"
      ]
     },
     "execution_count": 112,
     "metadata": {},
     "output_type": "execute_result"
    }
   ],
   "source": [
    "list(g.nodes)[:10]"
   ]
  },
  {
   "cell_type": "code",
   "execution_count": 113,
   "metadata": {},
   "outputs": [
    {
     "data": {
      "text/plain": [
       "[('beach', '100likes', {'weight': 3}),\n",
       " ('beach', '12', {'weight': 1}),\n",
       " ('beach', '141', {'weight': 1}),\n",
       " ('beach', '20likes', {'weight': 1}),\n",
       " ('beach', '50likes', {'weight': 3}),\n",
       " ('beach', '7t', {'weight': 1}),\n",
       " ('beach', 'a7riiiswimmingpool', {'weight': 1}),\n",
       " ('beach', 'acoustic', {'weight': 1}),\n",
       " ('beach', 'adamsjuggler', {'weight': 1}),\n",
       " ('beach', 'adventure', {'weight': 2})]"
      ]
     },
     "execution_count": 113,
     "metadata": {},
     "output_type": "execute_result"
    }
   ],
   "source": [
    "list(g.edges(data=True))[:10]"
   ]
  },
  {
   "cell_type": "code",
   "execution_count": 114,
   "metadata": {},
   "outputs": [
    {
     "data": {
      "text/plain": [
       "3616"
      ]
     },
     "execution_count": 114,
     "metadata": {},
     "output_type": "execute_result"
    }
   ],
   "source": [
    "len(g.nodes)"
   ]
  },
  {
   "cell_type": "code",
   "execution_count": 115,
   "metadata": {},
   "outputs": [
    {
     "data": {
      "text/plain": [
       "4386"
      ]
     },
     "execution_count": 115,
     "metadata": {},
     "output_type": "execute_result"
    }
   ],
   "source": [
    "len(g.edges)"
   ]
  },
  {
   "cell_type": "code",
   "execution_count": 116,
   "metadata": {},
   "outputs": [
    {
     "data": {
      "text/plain": [
       "99.95442114858706"
      ]
     },
     "execution_count": 116,
     "metadata": {},
     "output_type": "execute_result"
    }
   ],
   "source": [
    "# the same percetual as before, but now with the grouped dataframe\n",
    "100 * len(g.edges)/edges_grouped_keys.shape[0]"
   ]
  },
  {
   "cell_type": "code",
   "execution_count": 117,
   "metadata": {},
   "outputs": [],
   "source": [
    "nx.write_graphml(g, \"edges_counted_keys_\" + str(POSTS_MAX) + \".graphml\")"
   ]
  },
  {
   "cell_type": "markdown",
   "metadata": {},
   "source": [
    "Inspecting Keys Edges"
   ]
  },
  {
   "cell_type": "code",
   "execution_count": 118,
   "metadata": {},
   "outputs": [
    {
     "data": {
      "text/html": [
       "<div>\n",
       "<style scoped>\n",
       "    .dataframe tbody tr th:only-of-type {\n",
       "        vertical-align: middle;\n",
       "    }\n",
       "\n",
       "    .dataframe tbody tr th {\n",
       "        vertical-align: top;\n",
       "    }\n",
       "\n",
       "    .dataframe thead th {\n",
       "        text-align: right;\n",
       "    }\n",
       "</style>\n",
       "<table border=\"1\" class=\"dataframe\">\n",
       "  <thead>\n",
       "    <tr style=\"text-align: right;\">\n",
       "      <th></th>\n",
       "      <th>weight</th>\n",
       "      <th>source</th>\n",
       "      <th>target</th>\n",
       "    </tr>\n",
       "  </thead>\n",
       "  <tbody>\n",
       "    <tr>\n",
       "      <th>435</th>\n",
       "      <td>1</td>\n",
       "      <td>beach</td>\n",
       "      <td>nativeinstruments</td>\n",
       "    </tr>\n",
       "    <tr>\n",
       "      <th>2743</th>\n",
       "      <td>1</td>\n",
       "      <td>home</td>\n",
       "      <td>visitparnu</td>\n",
       "    </tr>\n",
       "    <tr>\n",
       "      <th>3612</th>\n",
       "      <td>1</td>\n",
       "      <td>palmtree</td>\n",
       "      <td>yoga</td>\n",
       "    </tr>\n",
       "    <tr>\n",
       "      <th>79</th>\n",
       "      <td>1</td>\n",
       "      <td>beach</td>\n",
       "      <td>bollywood</td>\n",
       "    </tr>\n",
       "    <tr>\n",
       "      <th>1173</th>\n",
       "      <td>1</td>\n",
       "      <td>garden</td>\n",
       "      <td>happycolour</td>\n",
       "    </tr>\n",
       "    <tr>\n",
       "      <th>3650</th>\n",
       "      <td>1</td>\n",
       "      <td>vacation</td>\n",
       "      <td>asalcalawak</td>\n",
       "    </tr>\n",
       "    <tr>\n",
       "      <th>2030</th>\n",
       "      <td>1</td>\n",
       "      <td>home</td>\n",
       "      <td>foto</td>\n",
       "    </tr>\n",
       "    <tr>\n",
       "      <th>3185</th>\n",
       "      <td>1</td>\n",
       "      <td>palmtree</td>\n",
       "      <td>lovehawaii</td>\n",
       "    </tr>\n",
       "    <tr>\n",
       "      <th>1600</th>\n",
       "      <td>1</td>\n",
       "      <td>garden</td>\n",
       "      <td>terrassendeko</td>\n",
       "    </tr>\n",
       "    <tr>\n",
       "      <th>3300</th>\n",
       "      <td>1</td>\n",
       "      <td>palmtree</td>\n",
       "      <td>palmisland</td>\n",
       "    </tr>\n",
       "  </tbody>\n",
       "</table>\n",
       "</div>"
      ],
      "text/plain": [
       "      weight    source             target\n",
       "435        1     beach  nativeinstruments\n",
       "2743       1      home         visitparnu\n",
       "3612       1  palmtree               yoga\n",
       "79         1     beach          bollywood\n",
       "1173       1    garden        happycolour\n",
       "3650       1  vacation        asalcalawak\n",
       "2030       1      home               foto\n",
       "3185       1  palmtree         lovehawaii\n",
       "1600       1    garden      terrassendeko\n",
       "3300       1  palmtree         palmisland"
      ]
     },
     "execution_count": 118,
     "metadata": {},
     "output_type": "execute_result"
    }
   ],
   "source": [
    "edges_grouped_keys.sample(10)"
   ]
  },
  {
   "cell_type": "code",
   "execution_count": 119,
   "metadata": {},
   "outputs": [
    {
     "data": {
      "text/plain": [
       "weight    0\n",
       "source    0\n",
       "target    0\n",
       "dtype: int64"
      ]
     },
     "execution_count": 119,
     "metadata": {},
     "output_type": "execute_result"
    }
   ],
   "source": [
    "# checking if there are any null value\n",
    "edges_grouped_keys.isnull().sum()"
   ]
  },
  {
   "cell_type": "code",
   "execution_count": 120,
   "metadata": {},
   "outputs": [
    {
     "data": {
      "text/plain": [
       "array([ 1,  2,  3,  4,  5,  6,  7,  8,  9, 10, 11, 12, 13, 14, 15, 16, 17,\n",
       "       18, 19, 20, 21, 22, 23, 24, 25, 27, 29, 30, 31, 32, 34, 36, 37, 44],\n",
       "      dtype=int64)"
      ]
     },
     "execution_count": 120,
     "metadata": {},
     "output_type": "execute_result"
    }
   ],
   "source": [
    "# checking different weight values\n",
    "edges_grouped_keys.weight.sort_values().unique()"
   ]
  },
  {
   "cell_type": "code",
   "execution_count": 121,
   "metadata": {},
   "outputs": [
    {
     "data": {
      "text/plain": [
       "0"
      ]
     },
     "execution_count": 121,
     "metadata": {},
     "output_type": "execute_result"
    }
   ],
   "source": [
    "# checking for empty tags\n",
    "edges_grouped_keys.source.apply( lambda x : x is '' ).sum()"
   ]
  },
  {
   "cell_type": "code",
   "execution_count": 122,
   "metadata": {},
   "outputs": [
    {
     "data": {
      "text/plain": [
       "0"
      ]
     },
     "execution_count": 122,
     "metadata": {},
     "output_type": "execute_result"
    }
   ],
   "source": [
    "# checking for empty tags\n",
    "edges_grouped_keys.target.apply( lambda x : x is '' ).sum()"
   ]
  },
  {
   "cell_type": "code",
   "execution_count": 123,
   "metadata": {},
   "outputs": [
    {
     "data": {
      "text/plain": [
       "[]"
      ]
     },
     "execution_count": 123,
     "metadata": {},
     "output_type": "execute_result"
    }
   ],
   "source": [
    "# checking for self loop edges\n",
    "list(nx.selfloop_edges(g))"
   ]
  },
  {
   "cell_type": "code",
   "execution_count": 124,
   "metadata": {},
   "outputs": [
    {
     "data": {
      "text/html": [
       "<div>\n",
       "<style scoped>\n",
       "    .dataframe tbody tr th:only-of-type {\n",
       "        vertical-align: middle;\n",
       "    }\n",
       "\n",
       "    .dataframe tbody tr th {\n",
       "        vertical-align: top;\n",
       "    }\n",
       "\n",
       "    .dataframe thead th {\n",
       "        text-align: right;\n",
       "    }\n",
       "</style>\n",
       "<table border=\"1\" class=\"dataframe\">\n",
       "  <thead>\n",
       "    <tr style=\"text-align: right;\">\n",
       "      <th></th>\n",
       "      <th>weight</th>\n",
       "      <th>source</th>\n",
       "      <th>target</th>\n",
       "    </tr>\n",
       "  </thead>\n",
       "  <tbody>\n",
       "    <tr>\n",
       "      <th>246</th>\n",
       "      <td>1</td>\n",
       "      <td>beach</td>\n",
       "      <td>garden</td>\n",
       "    </tr>\n",
       "    <tr>\n",
       "      <th>281</th>\n",
       "      <td>1</td>\n",
       "      <td>beach</td>\n",
       "      <td>home</td>\n",
       "    </tr>\n",
       "    <tr>\n",
       "      <th>739</th>\n",
       "      <td>3</td>\n",
       "      <td>beach</td>\n",
       "      <td>vacation</td>\n",
       "    </tr>\n",
       "    <tr>\n",
       "      <th>1192</th>\n",
       "      <td>6</td>\n",
       "      <td>garden</td>\n",
       "      <td>home</td>\n",
       "    </tr>\n",
       "    <tr>\n",
       "      <th>1643</th>\n",
       "      <td>1</td>\n",
       "      <td>garden</td>\n",
       "      <td>vacation</td>\n",
       "    </tr>\n",
       "    <tr>\n",
       "      <th>1767</th>\n",
       "      <td>1</td>\n",
       "      <td>home</td>\n",
       "      <td>beach</td>\n",
       "    </tr>\n",
       "    <tr>\n",
       "      <th>2841</th>\n",
       "      <td>16</td>\n",
       "      <td>palmtree</td>\n",
       "      <td>beach</td>\n",
       "    </tr>\n",
       "    <tr>\n",
       "      <th>3032</th>\n",
       "      <td>1</td>\n",
       "      <td>palmtree</td>\n",
       "      <td>garden</td>\n",
       "    </tr>\n",
       "    <tr>\n",
       "      <th>3085</th>\n",
       "      <td>7</td>\n",
       "      <td>palmtree</td>\n",
       "      <td>home</td>\n",
       "    </tr>\n",
       "    <tr>\n",
       "      <th>3572</th>\n",
       "      <td>9</td>\n",
       "      <td>palmtree</td>\n",
       "      <td>vacation</td>\n",
       "    </tr>\n",
       "    <tr>\n",
       "      <th>3665</th>\n",
       "      <td>6</td>\n",
       "      <td>vacation</td>\n",
       "      <td>beach</td>\n",
       "    </tr>\n",
       "  </tbody>\n",
       "</table>\n",
       "</div>"
      ],
      "text/plain": [
       "      weight    source    target\n",
       "246        1     beach    garden\n",
       "281        1     beach      home\n",
       "739        3     beach  vacation\n",
       "1192       6    garden      home\n",
       "1643       1    garden  vacation\n",
       "1767       1      home     beach\n",
       "2841      16  palmtree     beach\n",
       "3032       1  palmtree    garden\n",
       "3085       7  palmtree      home\n",
       "3572       9  palmtree  vacation\n",
       "3665       6  vacation     beach"
      ]
     },
     "execution_count": 124,
     "metadata": {},
     "output_type": "execute_result"
    }
   ],
   "source": [
    "# checking for swapped key tags\n",
    "\n",
    "key_tags = edges_grouped_keys.source.unique().tolist()\n",
    "\n",
    "mask_key_tags = edges_grouped_keys.target.isin(key_tags)\n",
    "\n",
    "edges_grouped_keys[mask_key_tags]"
   ]
  },
  {
   "cell_type": "markdown",
   "metadata": {},
   "source": [
    "Plotting Keys Graph"
   ]
  },
  {
   "cell_type": "code",
   "execution_count": 125,
   "metadata": {},
   "outputs": [],
   "source": [
    "import matplotlib.pyplot as plt"
   ]
  },
  {
   "cell_type": "code",
   "execution_count": 126,
   "metadata": {},
   "outputs": [
    {
     "name": "stdout",
     "output_type": "stream",
     "text": [
      "Wall time: 0 ns\n"
     ]
    }
   ],
   "source": [
    "%%time\n",
    "\n",
    "# just to disable a long time operation\n",
    "if False :\n",
    "    \n",
    "    nx.draw(g)\n",
    "\n",
    "    plt.show()"
   ]
  },
  {
   "cell_type": "markdown",
   "metadata": {},
   "source": [
    "Node Weights\n",
    "Calculating Weights"
   ]
  },
  {
   "cell_type": "code",
   "execution_count": 127,
   "metadata": {},
   "outputs": [],
   "source": [
    "# creating a dictionary of weights\n",
    "node_weights = {}\n",
    "\n",
    "# populating the dictionary\n",
    "for person, posts in data.items() :\n",
    "    \n",
    "    for post in posts[:POSTS_MAX] :\n",
    "        \n",
    "        post_tags = post['tags']\n",
    "        \n",
    "        post_tags = [tag for tag in post_tags if validate_tag(tag)]\n",
    "        \n",
    "        for tag in post_tags :\n",
    "            \n",
    "            if tag in node_weights : \n",
    "                node_weights[tag] = node_weights[tag] + 1\n",
    "            else :\n",
    "                node_weights[tag] = 1"
   ]
  },
  {
   "cell_type": "code",
   "execution_count": 128,
   "metadata": {},
   "outputs": [
    {
     "data": {
      "text/plain": [
       "[('100likes', {}),\n",
       " ('50likes', {}),\n",
       " ('amazing', {}),\n",
       " ('beach', {}),\n",
       " ('beauty', {}),\n",
       " ('bestoftheday', {}),\n",
       " ('cool', {}),\n",
       " ('f4f', {}),\n",
       " ('fitness', {}),\n",
       " ('followforfollow', {})]"
      ]
     },
     "execution_count": 128,
     "metadata": {},
     "output_type": "execute_result"
    }
   ],
   "source": [
    "# checking the nodes before assign weights\n",
    "list(G.nodes(data=True))[:10]"
   ]
  },
  {
   "cell_type": "code",
   "execution_count": 129,
   "metadata": {},
   "outputs": [
    {
     "data": {
      "text/plain": [
       "[('beach', {}),\n",
       " ('100likes', {}),\n",
       " ('12', {}),\n",
       " ('141', {}),\n",
       " ('20likes', {}),\n",
       " ('50likes', {}),\n",
       " ('7t', {}),\n",
       " ('a7riiiswimmingpool', {}),\n",
       " ('acoustic', {}),\n",
       " ('adamsjuggler', {})]"
      ]
     },
     "execution_count": 129,
     "metadata": {},
     "output_type": "execute_result"
    }
   ],
   "source": [
    "# checking the nodes before assign weights\n",
    "list(g.nodes(data=True))[:10]"
   ]
  },
  {
   "cell_type": "code",
   "execution_count": 130,
   "metadata": {},
   "outputs": [
    {
     "data": {
      "text/plain": [
       "3601"
      ]
     },
     "execution_count": 130,
     "metadata": {},
     "output_type": "execute_result"
    }
   ],
   "source": [
    "len(G.nodes)"
   ]
  },
  {
   "cell_type": "code",
   "execution_count": 131,
   "metadata": {},
   "outputs": [
    {
     "data": {
      "text/plain": [
       "408"
      ]
     },
     "execution_count": 131,
     "metadata": {},
     "output_type": "execute_result"
    }
   ],
   "source": [
    "len(G_dropped.nodes)"
   ]
  },
  {
   "cell_type": "code",
   "execution_count": 132,
   "metadata": {},
   "outputs": [
    {
     "data": {
      "text/plain": [
       "3616"
      ]
     },
     "execution_count": 132,
     "metadata": {},
     "output_type": "execute_result"
    }
   ],
   "source": [
    "len(g.nodes)"
   ]
  },
  {
   "cell_type": "markdown",
   "metadata": {},
   "source": [
    "Assigning Weights\n",
    "All Edges Graph"
   ]
  },
  {
   "cell_type": "code",
   "execution_count": 133,
   "metadata": {},
   "outputs": [],
   "source": [
    "nx.set_node_attributes(G, node_weights, 'weight')"
   ]
  },
  {
   "cell_type": "code",
   "execution_count": 134,
   "metadata": {},
   "outputs": [
    {
     "data": {
      "text/plain": [
       "[('100likes', {'weight': 3}),\n",
       " ('50likes', {'weight': 3}),\n",
       " ('amazing', {'weight': 22}),\n",
       " ('beach', {'weight': 110}),\n",
       " ('beauty', {'weight': 54}),\n",
       " ('bestoftheday', {'weight': 19}),\n",
       " ('cool', {'weight': 20}),\n",
       " ('f4f', {'weight': 10}),\n",
       " ('fitness', {'weight': 19}),\n",
       " ('followforfollow', {'weight': 11})]"
      ]
     },
     "execution_count": 134,
     "metadata": {},
     "output_type": "execute_result"
    }
   ],
   "source": [
    "list(G.nodes(data=True))[:10]"
   ]
  },
  {
   "cell_type": "code",
   "execution_count": 135,
   "metadata": {},
   "outputs": [],
   "source": [
    "nx.write_graphml(G, \"edges_counted_\" + str(POSTS_MAX) + \"_nw.graphml\")"
   ]
  },
  {
   "cell_type": "markdown",
   "metadata": {},
   "source": [
    "Dropped All Edges Graph"
   ]
  },
  {
   "cell_type": "code",
   "execution_count": 136,
   "metadata": {},
   "outputs": [],
   "source": [
    "nx.set_node_attributes(G_dropped, node_weights, 'weight')"
   ]
  },
  {
   "cell_type": "code",
   "execution_count": 137,
   "metadata": {},
   "outputs": [
    {
     "data": {
      "text/plain": [
       "[('adventure', {'weight': 26}),\n",
       " ('beach', {'weight': 110}),\n",
       " ('beautiful', {'weight': 62}),\n",
       " ('beautifuldestinations', {'weight': 9}),\n",
       " ('explore', {'weight': 23}),\n",
       " ('fun', {'weight': 22}),\n",
       " ('happy', {'weight': 31}),\n",
       " ('holiday', {'weight': 33}),\n",
       " ('igtravel', {'weight': 15}),\n",
       " ('instagood', {'weight': 66})]"
      ]
     },
     "execution_count": 137,
     "metadata": {},
     "output_type": "execute_result"
    }
   ],
   "source": [
    "list(G_dropped.nodes(data=True))[:10]"
   ]
  },
  {
   "cell_type": "code",
   "execution_count": 138,
   "metadata": {},
   "outputs": [],
   "source": [
    "nx.write_graphml(G_dropped, \"edges_counted_\" + str(POSTS_MAX) + \"_dropped_nw.graphml\")"
   ]
  },
  {
   "cell_type": "markdown",
   "metadata": {},
   "source": [
    "Key Edges Graph"
   ]
  },
  {
   "cell_type": "code",
   "execution_count": 139,
   "metadata": {},
   "outputs": [],
   "source": [
    "nx.set_node_attributes(g, node_weights, 'weight')"
   ]
  },
  {
   "cell_type": "code",
   "execution_count": 140,
   "metadata": {},
   "outputs": [
    {
     "data": {
      "text/plain": [
       "[('100likes', {'weight': 3}),\n",
       " ('50likes', {'weight': 3}),\n",
       " ('amazing', {'weight': 22}),\n",
       " ('beach', {'weight': 110}),\n",
       " ('beauty', {'weight': 54}),\n",
       " ('bestoftheday', {'weight': 19}),\n",
       " ('cool', {'weight': 20}),\n",
       " ('f4f', {'weight': 10}),\n",
       " ('fitness', {'weight': 19}),\n",
       " ('followforfollow', {'weight': 11})]"
      ]
     },
     "execution_count": 140,
     "metadata": {},
     "output_type": "execute_result"
    }
   ],
   "source": [
    "list(G.nodes(data=True))[:10]"
   ]
  },
  {
   "cell_type": "code",
   "execution_count": 141,
   "metadata": {},
   "outputs": [],
   "source": [
    "nx.write_graphml(g, \"edges_counted_keys_\" + str(POSTS_MAX) + \"_nw.graphml\")"
   ]
  }
 ],
 "metadata": {
  "kernelspec": {
   "display_name": "Python 3",
   "language": "python",
   "name": "python3"
  },
  "language_info": {
   "codemirror_mode": {
    "name": "ipython",
    "version": 3
   },
   "file_extension": ".py",
   "mimetype": "text/x-python",
   "name": "python",
   "nbconvert_exporter": "python",
   "pygments_lexer": "ipython3",
   "version": "3.7.6"
  }
 },
 "nbformat": 4,
 "nbformat_minor": 4
}
